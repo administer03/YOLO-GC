{
 "cells": [
  {
   "cell_type": "code",
   "execution_count": 1,
   "metadata": {},
   "outputs": [],
   "source": [
    "import torch"
   ]
  },
  {
   "cell_type": "code",
   "execution_count": 2,
   "metadata": {},
   "outputs": [],
   "source": [
    "# Load state_dict\n",
    "yolo = torch.load('./runs/train/datav2_814/augment/scratch_5n/weights/best.pt', map_location=torch.device('cpu'))['model'].model.state_dict()"
   ]
  },
  {
   "cell_type": "code",
   "execution_count": 3,
   "metadata": {},
   "outputs": [],
   "source": [
    "# Load state_dict\n",
    "yolo_gc = torch.load('./runs/train/datav2_814/augment/scratch_5n/weights/best.pt', map_location=torch.device('cpu'))['model'].YODA.state_dict()"
   ]
  },
  {
   "cell_type": "code",
   "execution_count": 4,
   "metadata": {},
   "outputs": [],
   "source": [
    "# Save Feats statedict\n",
    "torch.save(yolo, './pretrain_weight/later_train_weight/vanila_yolo_n.pt')\n",
    "torch.save(yolo_gc, './pretrain_weight/later_train_weight/YOLOGC_n.pt')"
   ]
  },
  {
   "cell_type": "markdown",
   "metadata": {},
   "source": [
    "# Export with full weight of training"
   ]
  },
  {
   "cell_type": "code",
   "execution_count": 5,
   "metadata": {},
   "outputs": [],
   "source": [
    "# Load state_dict\n",
    "x = torch.load('./runs/train/datav2_814/augment/scratch_5n/weights/best.pt', map_location=torch.device('cpu'))\n",
    "# Save Feats statedict\n",
    "torch.save(x, './pretrain_weight/later_train_weight/full_n.pt')"
   ]
  }
 ],
 "metadata": {
  "kernelspec": {
   "display_name": "yolo",
   "language": "python",
   "name": "python3"
  },
  "language_info": {
   "codemirror_mode": {
    "name": "ipython",
    "version": 3
   },
   "file_extension": ".py",
   "mimetype": "text/x-python",
   "name": "python",
   "nbconvert_exporter": "python",
   "pygments_lexer": "ipython3",
   "version": "3.9.16"
  }
 },
 "nbformat": 4,
 "nbformat_minor": 2
}
