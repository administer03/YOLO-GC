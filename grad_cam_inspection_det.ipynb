{
 "cells": [
  {
   "cell_type": "code",
   "execution_count": 1,
   "metadata": {},
   "outputs": [
    {
     "name": "stderr",
     "output_type": "stream",
     "text": [
      "YOLOv5 🚀 2023-6-30 Python-3.9.13 torch-1.12.1 CPU\n",
      "\n",
      "Fusing layers... \n",
      "YOLOv5s summary: 157 layers, 7010518 parameters, 0 gradients, 15.3 GFLOPs\n",
      "Fusing layers... \n",
      "YOLOv5s summary: 157 layers, 7010518 parameters, 0 gradients, 15.3 GFLOPs\n",
      "Adding AutoShape... \n"
     ]
    },
    {
     "name": "stdout",
     "output_type": "stream",
     "text": [
      "0: path:/Users/jonastawatdumrongkit/Documents/globular_detection/yolo_feat_baseline_gradcam/runs/detect/img_0/temp_sub_processed/subregion_0_0.npy dont have any object\n",
      "1: path:/Users/jonastawatdumrongkit/Documents/globular_detection/yolo_feat_baseline_gradcam/runs/detect/img_0/temp_sub_processed/subregion_0_1024.npy dont have any object\n",
      "2: path:/Users/jonastawatdumrongkit/Documents/globular_detection/yolo_feat_baseline_gradcam/runs/detect/img_0/temp_sub_processed/subregion_0_2048.npy dont have any object\n",
      "3: path:/Users/jonastawatdumrongkit/Documents/globular_detection/yolo_feat_baseline_gradcam/runs/detect/img_0/temp_sub_processed/subregion_0_3072.npy dont have any object\n",
      "4: path:/Users/jonastawatdumrongkit/Documents/globular_detection/yolo_feat_baseline_gradcam/runs/detect/img_0/temp_sub_processed/subregion_0_4096.npy dont have any object\n",
      "5: path:/Users/jonastawatdumrongkit/Documents/globular_detection/yolo_feat_baseline_gradcam/runs/detect/img_0/temp_sub_processed/subregion_0_5120.npy dont have any object\n",
      "6: path:/Users/jonastawatdumrongkit/Documents/globular_detection/yolo_feat_baseline_gradcam/runs/detect/img_0/temp_sub_processed/subregion_1024_0.npy dont have any object\n"
     ]
    },
    {
     "name": "stderr",
     "output_type": "stream",
     "text": [
      "saved image to runs/detect/grad_npy/exp3/subregion_1024_1024.png\n",
      "saved image to runs/detect/grad_npy/exp3/subregion_1024_2048.png\n"
     ]
    },
    {
     "name": "stdout",
     "output_type": "stream",
     "text": [
      "2: path:/Users/jonastawatdumrongkit/Documents/globular_detection/yolo_feat_baseline_gradcam/runs/detect/img_0/temp_sub_processed/subregion_1024_3072.npy dont have any object\n",
      "3: path:/Users/jonastawatdumrongkit/Documents/globular_detection/yolo_feat_baseline_gradcam/runs/detect/img_0/temp_sub_processed/subregion_1024_4096.npy dont have any object\n",
      "4: path:/Users/jonastawatdumrongkit/Documents/globular_detection/yolo_feat_baseline_gradcam/runs/detect/img_0/temp_sub_processed/subregion_1024_5120.npy dont have any object\n"
     ]
    },
    {
     "name": "stderr",
     "output_type": "stream",
     "text": [
      "saved image to runs/detect/grad_npy/exp3/subregion_2048_0.png\n"
     ]
    },
    {
     "name": "stdout",
     "output_type": "stream",
     "text": [
      "0: path:/Users/jonastawatdumrongkit/Documents/globular_detection/yolo_feat_baseline_gradcam/runs/detect/img_0/temp_sub_processed/subregion_2048_1024.npy dont have any object\n",
      "1: path:/Users/jonastawatdumrongkit/Documents/globular_detection/yolo_feat_baseline_gradcam/runs/detect/img_0/temp_sub_processed/subregion_2048_2048.npy dont have any object\n",
      "2: path:/Users/jonastawatdumrongkit/Documents/globular_detection/yolo_feat_baseline_gradcam/runs/detect/img_0/temp_sub_processed/subregion_2048_3072.npy dont have any object\n"
     ]
    },
    {
     "name": "stderr",
     "output_type": "stream",
     "text": [
      "saved image to runs/detect/grad_npy/exp3/subregion_2048_4096.png\n"
     ]
    },
    {
     "name": "stdout",
     "output_type": "stream",
     "text": [
      "1: path:/Users/jonastawatdumrongkit/Documents/globular_detection/yolo_feat_baseline_gradcam/runs/detect/img_0/temp_sub_processed/subregion_2048_5120.npy dont have any object\n",
      "2: path:/Users/jonastawatdumrongkit/Documents/globular_detection/yolo_feat_baseline_gradcam/runs/detect/img_0/temp_sub_processed/subregion_3072_0.npy dont have any object\n"
     ]
    },
    {
     "name": "stderr",
     "output_type": "stream",
     "text": [
      "saved image to runs/detect/grad_npy/exp3/subregion_3072_1024.png\n",
      "saved image to runs/detect/grad_npy/exp3/subregion_3072_2048.png\n",
      "saved image to runs/detect/grad_npy/exp3/subregion_3072_3072.png\n",
      "saved image to runs/detect/grad_npy/exp3/subregion_3072_4096.png\n"
     ]
    },
    {
     "name": "stdout",
     "output_type": "stream",
     "text": [
      "1: path:/Users/jonastawatdumrongkit/Documents/globular_detection/yolo_feat_baseline_gradcam/runs/detect/img_0/temp_sub_processed/subregion_3072_5120.npy dont have any object\n",
      "2: path:/Users/jonastawatdumrongkit/Documents/globular_detection/yolo_feat_baseline_gradcam/runs/detect/img_0/temp_sub_processed/subregion_4096_0.npy dont have any object\n"
     ]
    },
    {
     "name": "stderr",
     "output_type": "stream",
     "text": [
      "saved image to runs/detect/grad_npy/exp3/subregion_4096_1024.png\n"
     ]
    },
    {
     "name": "stdout",
     "output_type": "stream",
     "text": [
      "0: path:/Users/jonastawatdumrongkit/Documents/globular_detection/yolo_feat_baseline_gradcam/runs/detect/img_0/temp_sub_processed/subregion_4096_2048.npy dont have any object\n",
      "1: path:/Users/jonastawatdumrongkit/Documents/globular_detection/yolo_feat_baseline_gradcam/runs/detect/img_0/temp_sub_processed/subregion_4096_3072.npy dont have any object\n",
      "2: path:/Users/jonastawatdumrongkit/Documents/globular_detection/yolo_feat_baseline_gradcam/runs/detect/img_0/temp_sub_processed/subregion_4096_4096.npy dont have any object\n",
      "3: path:/Users/jonastawatdumrongkit/Documents/globular_detection/yolo_feat_baseline_gradcam/runs/detect/img_0/temp_sub_processed/subregion_4096_5120.npy dont have any object\n",
      "4: path:/Users/jonastawatdumrongkit/Documents/globular_detection/yolo_feat_baseline_gradcam/runs/detect/img_0/temp_sub_processed/subregion_5120_0.npy dont have any object\n",
      "5: path:/Users/jonastawatdumrongkit/Documents/globular_detection/yolo_feat_baseline_gradcam/runs/detect/img_0/temp_sub_processed/subregion_5120_1024.npy dont have any object\n",
      "6: path:/Users/jonastawatdumrongkit/Documents/globular_detection/yolo_feat_baseline_gradcam/runs/detect/img_0/temp_sub_processed/subregion_5120_2048.npy dont have any object\n",
      "7: path:/Users/jonastawatdumrongkit/Documents/globular_detection/yolo_feat_baseline_gradcam/runs/detect/img_0/temp_sub_processed/subregion_5120_3072.npy dont have any object\n",
      "8: path:/Users/jonastawatdumrongkit/Documents/globular_detection/yolo_feat_baseline_gradcam/runs/detect/img_0/temp_sub_processed/subregion_5120_4096.npy dont have any object\n",
      "9: path:/Users/jonastawatdumrongkit/Documents/globular_detection/yolo_feat_baseline_gradcam/runs/detect/img_0/temp_sub_processed/subregion_5120_5120.npy dont have any object\n"
     ]
    }
   ],
   "source": [
    "from explainer.explainer import run\n",
    "\n",
    "image = run(weights='./best_weights/yolo_best_s.pt', source='./runs/detect/img_0/temp_sub_processed', w_yoda='./best_weights/FE_stacked_convns_s_3.pt', project='./runs/detect/grad_npy', backprop_array=['confidence'], preprocess=False)\n",
    "# image = run(weights='./best_weights/yolo_best_s.pt', method='GradCAM', layer=-2, backprop_array=['confidence'])"
   ]
  },
  {
   "cell_type": "code",
   "execution_count": null,
   "metadata": {},
   "outputs": [],
   "source": []
  }
 ],
 "metadata": {
  "kernelspec": {
   "display_name": "jonasMain",
   "language": "python",
   "name": "python3"
  },
  "language_info": {
   "codemirror_mode": {
    "name": "ipython",
    "version": 3
   },
   "file_extension": ".py",
   "mimetype": "text/x-python",
   "name": "python",
   "nbconvert_exporter": "python",
   "pygments_lexer": "ipython3",
   "version": "3.9.13"
  },
  "orig_nbformat": 4
 },
 "nbformat": 4,
 "nbformat_minor": 2
}
