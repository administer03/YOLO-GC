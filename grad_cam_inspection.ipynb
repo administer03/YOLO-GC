{
 "cells": [
  {
   "cell_type": "code",
   "execution_count": 1,
   "metadata": {},
   "outputs": [
    {
     "name": "stderr",
     "output_type": "stream",
     "text": [
      "YOLOv5 🚀 2023-6-30 Python-3.9.13 torch-1.12.1 CPU\n",
      "\n",
      "Fusing layers... \n",
      "YOLOv5s summary: 157 layers, 7010518 parameters, 0 gradients, 15.3 GFLOPs\n",
      "Fusing layers... \n",
      "YOLOv5s summary: 157 layers, 7010518 parameters, 0 gradients, 15.3 GFLOPs\n",
      "Adding AutoShape... \n",
      "saved image to runs/detect/exp/hst_14610_07_acs_wfc_f814w_jdb607_drc_10.png\n",
      "saved image to runs/detect/exp/hst_14610_07_acs_wfc_f814w_jdb607_drc_21.png\n",
      "saved image to runs/detect/exp/hst_14610_07_acs_wfc_f814w_jdb607_drc_26.png\n",
      "saved image to runs/detect/exp/hst_14610_07_acs_wfc_f814w_jdb607_drc_27.png\n",
      "saved image to runs/detect/exp/hst_14610_07_acs_wfc_f814w_jdb607_drc_28.png\n",
      "saved image to runs/detect/exp/hst_14610_07_acs_wfc_f814w_jdb607_drc_33.png\n",
      "saved image to runs/detect/exp/hst_14610_07_acs_wfc_f814w_jdb607_drc_34.png\n",
      "saved image to runs/detect/exp/hst_14610_13_acs_wfc_f814w_jdb613_drc_23.png\n",
      "saved image to runs/detect/exp/hst_14610_13_acs_wfc_f814w_jdb613_drc_28.png\n",
      "saved image to runs/detect/exp/hst_14610_13_acs_wfc_f814w_jdb613_drc_9.png\n",
      "saved image to runs/detect/exp/hst_14610_15_acs_wfc_f814w_jdb615_drc_14.png\n",
      "saved image to runs/detect/exp/hst_14610_15_acs_wfc_f814w_jdb615_drc_20.png\n",
      "saved image to runs/detect/exp/hst_14610_15_acs_wfc_f814w_jdb615_drc_27.png\n",
      "saved image to runs/detect/exp/hst_14610_20_acs_wfc_f814w_jdb620_drc_22.png\n",
      "saved image to runs/detect/exp/hst_14610_24_acs_wfc_f814w_jdb624_drc_11.png\n",
      "saved image to runs/detect/exp/hst_14610_24_acs_wfc_f814w_jdb624_drc_18.png\n",
      "saved image to runs/detect/exp/hst_14610_24_acs_wfc_f814w_jdb624_drc_19.png\n",
      "saved image to runs/detect/exp/hst_14610_24_acs_wfc_f814w_jdb624_drc_25.png\n",
      "saved image to runs/detect/exp/hst_14610_24_acs_wfc_f814w_jdb624_drc_32.png\n",
      "saved image to runs/detect/exp/hst_14610_51_acs_wfc_f814w_jdb651_drc_22.png\n",
      "saved image to runs/detect/exp/hst_14610_51_acs_wfc_f814w_jdb651_drc_28.png\n"
     ]
    }
   ],
   "source": [
    "from explainer.explainer import run\n",
    "\n",
    "image = run(weights='./best_weights/yolo_best_s.pt', method='GradCAM', layer=-2, backprop_array=['confidence'])\n",
    "# image = run(weights='./best_weights/yolo_best_s.pt', method='GradCAM', layer=-2, backprop_array=['confidence'])"
   ]
  },
  {
   "cell_type": "code",
   "execution_count": null,
   "metadata": {},
   "outputs": [],
   "source": []
  }
 ],
 "metadata": {
  "kernelspec": {
   "display_name": "jonasMain",
   "language": "python",
   "name": "python3"
  },
  "language_info": {
   "codemirror_mode": {
    "name": "ipython",
    "version": 3
   },
   "file_extension": ".py",
   "mimetype": "text/x-python",
   "name": "python",
   "nbconvert_exporter": "python",
   "pygments_lexer": "ipython3",
   "version": "3.9.13"
  },
  "orig_nbformat": 4
 },
 "nbformat": 4,
 "nbformat_minor": 2
}
